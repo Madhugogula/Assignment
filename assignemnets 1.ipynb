{
 "cells": [
  {
   "cell_type": "code",
   "execution_count": 1,
   "id": "d2dc0886",
   "metadata": {
    "scrolled": true
   },
   "outputs": [
    {
     "name": "stdout",
     "output_type": "stream",
     "text": [
      "Points\n",
      "Mean 3.597 \n",
      "Median  3.695  \n",
      "Mode 0    3.07\n",
      "1    3.92\n",
      "Name: Points, dtype: float64 \n",
      "Variance 0.286 \n",
      "Standard deviation 0.535 \n",
      "Range 2.17\n",
      "\n",
      "Score\n",
      "Mean 3.217 \n",
      "Median  3.325  \n",
      "Mode 0    3.44\n",
      "Name: Score, dtype: float64 \n",
      "Variance 0.957 \n",
      "Standard deviation 0.978 \n",
      "Range 3.911\n",
      "\n",
      "Weight\n",
      "Mean 17.849 \n",
      "Median  17.71  \n",
      "Mode 0    17.02\n",
      "1    18.90\n",
      "Name: Weigh, dtype: float64 \n",
      "Variance 3.193 \n",
      "Standard deviation 1.787 \n",
      "Range 8.4\n"
     ]
    }
   ],
   "source": [
    "import pandas as pd\n",
    "file=pd.read_csv(\"D:/data science/Assignments/Basic Statistic Level 1/Q7.csv\")  # Reads the Data from the file Location\n",
    "t1=file[\"Points\"] #It gives the data of points\n",
    "t2=file[\"Score\"]\n",
    "t3=file[\"Weight\"]\n",
    "print(\"Points\\nMean\",round(t1.mean(),3),\"\\nMedian \",round(t1.median(),3),\" \\nMode\",round(t1.mode(),3),\"\\nVariance\",round(t1.var(),3),\"\\nStandard deviation\",round(t1.std(),3),\"\\nRange\",round((t1.max()-t1.min()),3))\n",
    "print(\"\\nScore\\nMean\",round(t2.mean(),3),\"\\nMedian \",round(t2.median(),3),\" \\nMode\",round(t2.mode(),3),\"\\nVariance\",round(t2.var(),3),\"\\nStandard deviation\",round(t2.std(),3),\"\\nRange\",round((t2.max()-t2.min()),3))\n",
    "print(\"\\nWeight\\nMean\",round(t3.mean(),3),\"\\nMedian \",round(t3.median(),3),\" \\nMode\",round(t3.mode(),3),\"\\nVariance\",round(t3.var(),3),\"\\nStandard deviation\",round(t3.std(),3),\"\\nRange\",round((t3.max()-t3.min()),3))"
   ]
  },
  {
   "cell_type": "code",
   "execution_count": 4,
   "id": "0a369c70",
   "metadata": {},
   "outputs": [
    {
     "name": "stdout",
     "output_type": "stream",
     "text": [
      "count    32.000000\n",
      "mean      3.596563\n",
      "std       0.534679\n",
      "min       2.760000\n",
      "25%       3.080000\n",
      "50%       3.695000\n",
      "75%       3.920000\n",
      "max       4.930000\n",
      "Name: Points, dtype: float64\n",
      "count    32.000000\n",
      "mean      3.217250\n",
      "std       0.978457\n",
      "min       1.513000\n",
      "25%       2.581250\n",
      "50%       3.325000\n",
      "75%       3.610000\n",
      "max       5.424000\n",
      "Name: Score, dtype: float64\n",
      "count    32.000000\n",
      "mean     17.848750\n",
      "std       1.786943\n",
      "min      14.500000\n",
      "25%      16.892500\n",
      "50%      17.710000\n",
      "75%      18.900000\n",
      "max      22.900000\n",
      "Name: Weigh, dtype: float64\n"
     ]
    }
   ],
   "source": [
    "print(t1.describe())\n",
    "print(t2.describe())\n",
    "print(t3.describe())"
   ]
  },
  {
   "cell_type": "code",
   "execution_count": 4,
   "id": "799ff540",
   "metadata": {},
   "outputs": [
    {
     "data": {
      "text/plain": [
       "0     3.90\n",
       "1     3.90\n",
       "2     3.85\n",
       "3     3.08\n",
       "4     3.15\n",
       "5     2.76\n",
       "6     3.21\n",
       "7     3.69\n",
       "8     3.92\n",
       "9     3.92\n",
       "10    3.92\n",
       "11    3.07\n",
       "12    3.07\n",
       "13    3.07\n",
       "14    2.93\n",
       "15    3.00\n",
       "16    3.23\n",
       "17    4.08\n",
       "18    4.93\n",
       "19    4.22\n",
       "20    3.70\n",
       "21    2.76\n",
       "22    3.15\n",
       "23    3.73\n",
       "24    3.08\n",
       "25    4.08\n",
       "26    4.43\n",
       "27    3.77\n",
       "28    4.22\n",
       "29    3.62\n",
       "30    3.54\n",
       "31    4.11\n",
       "Name: Points, dtype: float64"
      ]
     },
     "execution_count": 4,
     "metadata": {},
     "output_type": "execute_result"
    }
   ],
   "source": [
    "t1"
   ]
  },
  {
   "cell_type": "markdown",
   "id": "e1db527b",
   "metadata": {},
   "source": [
    "Question 9"
   ]
  },
  {
   "cell_type": "code",
   "execution_count": 6,
   "id": "0912c95e",
   "metadata": {},
   "outputs": [
    {
     "name": "stdout",
     "output_type": "stream",
     "text": [
      "AxesSubplot(0.125,0.11;0.775x0.77) \n",
      "Skewness of speed  -0.11750986144663393 \n",
      "Kurtosis of Speed -0.5089944204057617\n",
      "AxesSubplot(0.125,0.11;0.775x0.77) \n",
      "Skewness of  distance  0.8068949601674215 \n",
      "Kurtosis of distance 0.4050525816795765\n"
     ]
    },
    {
     "data": {
      "image/png": "[encoded data removed]",
      "text/plain": [
       "<Figure size 640x480 with 1 Axes>"
      ]
     },
     "metadata": {},
     "output_type": "display_data"
    }
   ],
   "source": [
    "import pandas as pd\n",
    "q=pd.read_csv(\"D:/data science/Assignments/Basic Statistic Level 1/Q9_a.csv\")\n",
    "print(q[\"speed\"].hist(),\"\\nSkewness of speed \",q[\"speed\"].skew(),\"\\nKurtosis of Speed\",q[\"speed\"].kurt())\n",
    "print(q[\"dist\"].hist(),\"\\nSkewness of  distance \",q[\"dist\"].skew(),\"\\nKurtosis of distance\",q[\"dist\"].kurt())"
   ]
  },
  {
   "cell_type": "code",
   "execution_count": 21,
   "id": "45cb1142",
   "metadata": {},
   "outputs": [
    {
     "name": "stdout",
     "output_type": "stream",
     "text": [
      "AxesSubplot(0.125,0.11;0.775x0.77) \n",
      "Skewness of SP  1.6114501961773586 \n",
      "Kurtosis of SP 2.9773289437871835\n",
      "AxesSubplot(0.125,0.11;0.775x0.77) \n",
      "Skewness of  WT  -0.6147533255357768 \n",
      "Kurtosis of WT 0.9502914910300326\n"
     ]
    },
    {
     "data": {
      "image/png": "[encoded data removed]",
      "text/plain": [
       "<Figure size 640x480 with 1 Axes>"
      ]
     },
     "metadata": {},
     "output_type": "display_data"
    }
   ],
   "source": [
    "import pandas as pd\n",
    "q=pd.read_csv(\"D:/data science/Assignments/Q9_b.csv\")\n",
    "print(q[\"SP\"].hist(),\"\\nSkewness of SP \",q[\"SP\"].skew(),\"\\nKurtosis of SP\",q[\"SP\"].kurt())\n",
    "print(q[\"WT\"].hist(),\"\\nSkewness of  WT \",q[\"WT\"].skew(),\"\\nKurtosis of WT\",q[\"WT\"].kurt())"
   ]
  },
  {
   "cell_type": "code",
   "execution_count": null,
   "id": "dc4f7230",
   "metadata": {},
   "outputs": [],
   "source": []
  },
  {
   "cell_type": "code",
   "execution_count": null,
   "id": "33f5da50",
   "metadata": {},
   "outputs": [],
   "source": []
  },
  {
   "cell_type": "code",
   "execution_count": null,
   "id": "5ab112a2",
   "metadata": {},
   "outputs": [],
   "source": []
  },
  {
   "cell_type": "code",
   "execution_count": null,
   "id": "91a3c218",
   "metadata": {},
   "outputs": [],
   "source": []
  },
  {
   "cell_type": "code",
   "execution_count": 2,
   "id": "ff631c40",
   "metadata": {},
   "outputs": [],
   "source": [
    "import pandas as pd\n",
    "import numpy as np\n",
    "d=pd.read_csv(\"D:/data science/Costomer+OrderForm.csv\")\n",
    "import scipy.stats as stats"
   ]
  },
  {
   "cell_type": "code",
   "execution_count": 8,
   "id": "6912988d",
   "metadata": {},
   "outputs": [
    {
     "name": "stdout",
     "output_type": "stream",
     "text": [
      "           Indonesia                \n",
      "Indonesia  Defective Error Free  All\n",
      "India                               \n",
      "Defective          2         18   20\n",
      "Error Free        31        249  280\n",
      "All               33        267  300\n",
      "                Chi-square test  results\n",
      "0  Pearson Chi-square ( 1.0) =    0.0219\n",
      "1                    p-value =    0.8824\n",
      "2               Cramer's phi =    0.0085\n"
     ]
    }
   ],
   "source": [
    "import pandas as pd\n",
    "d= pd.read_csv(\"D:/data science/Costomer+OrderForm.csv\")\n",
    "import researchpy as rp\n",
    "table,results= rp.crosstab(d[\"India\"],d[\"Indonesia\"],test=\"chi-square\")\n",
    "print(table)\n",
    "print(results)"
   ]
  },
  {
   "cell_type": "code",
   "execution_count": 4,
   "id": "09f19bf3",
   "metadata": {},
   "outputs": [
    {
     "data": {
      "text/html": [
       "<div>\n",
       "<style scoped>\n",
       "    .dataframe tbody tr th:only-of-type {\n",
       "        vertical-align: middle;\n",
       "    }\n",
       "\n",
       "    .dataframe tbody tr th {\n",
       "        vertical-align: top;\n",
       "    }\n",
       "\n",
       "    .dataframe thead th {\n",
       "        text-align: right;\n",
       "    }\n",
       "</style>\n",
       "<table border=\"1\" class=\"dataframe\">\n",
       "  <thead>\n",
       "    <tr style=\"text-align: right;\">\n",
       "      <th></th>\n",
       "      <th>Phillippines</th>\n",
       "      <th>Indonesia</th>\n",
       "      <th>Malta</th>\n",
       "      <th>India</th>\n",
       "    </tr>\n",
       "  </thead>\n",
       "  <tbody>\n",
       "    <tr>\n",
       "      <th>0</th>\n",
       "      <td>Error Free</td>\n",
       "      <td>Error Free</td>\n",
       "      <td>Defective</td>\n",
       "      <td>Error Free</td>\n",
       "    </tr>\n",
       "    <tr>\n",
       "      <th>1</th>\n",
       "      <td>Error Free</td>\n",
       "      <td>Error Free</td>\n",
       "      <td>Error Free</td>\n",
       "      <td>Defective</td>\n",
       "    </tr>\n",
       "    <tr>\n",
       "      <th>2</th>\n",
       "      <td>Error Free</td>\n",
       "      <td>Defective</td>\n",
       "      <td>Defective</td>\n",
       "      <td>Error Free</td>\n",
       "    </tr>\n",
       "    <tr>\n",
       "      <th>3</th>\n",
       "      <td>Error Free</td>\n",
       "      <td>Error Free</td>\n",
       "      <td>Error Free</td>\n",
       "      <td>Error Free</td>\n",
       "    </tr>\n",
       "    <tr>\n",
       "      <th>4</th>\n",
       "      <td>Error Free</td>\n",
       "      <td>Error Free</td>\n",
       "      <td>Defective</td>\n",
       "      <td>Error Free</td>\n",
       "    </tr>\n",
       "    <tr>\n",
       "      <th>...</th>\n",
       "      <td>...</td>\n",
       "      <td>...</td>\n",
       "      <td>...</td>\n",
       "      <td>...</td>\n",
       "    </tr>\n",
       "    <tr>\n",
       "      <th>295</th>\n",
       "      <td>Error Free</td>\n",
       "      <td>Error Free</td>\n",
       "      <td>Error Free</td>\n",
       "      <td>Error Free</td>\n",
       "    </tr>\n",
       "    <tr>\n",
       "      <th>296</th>\n",
       "      <td>Error Free</td>\n",
       "      <td>Error Free</td>\n",
       "      <td>Error Free</td>\n",
       "      <td>Error Free</td>\n",
       "    </tr>\n",
       "    <tr>\n",
       "      <th>297</th>\n",
       "      <td>Error Free</td>\n",
       "      <td>Error Free</td>\n",
       "      <td>Defective</td>\n",
       "      <td>Error Free</td>\n",
       "    </tr>\n",
       "    <tr>\n",
       "      <th>298</th>\n",
       "      <td>Error Free</td>\n",
       "      <td>Error Free</td>\n",
       "      <td>Error Free</td>\n",
       "      <td>Error Free</td>\n",
       "    </tr>\n",
       "    <tr>\n",
       "      <th>299</th>\n",
       "      <td>Error Free</td>\n",
       "      <td>Defective</td>\n",
       "      <td>Defective</td>\n",
       "      <td>Error Free</td>\n",
       "    </tr>\n",
       "  </tbody>\n",
       "</table>\n",
       "<p>300 rows × 4 columns</p>\n",
       "</div>"
      ],
      "text/plain": [
       "    Phillippines   Indonesia       Malta       India\n",
       "0     Error Free  Error Free   Defective  Error Free\n",
       "1     Error Free  Error Free  Error Free   Defective\n",
       "2     Error Free   Defective   Defective  Error Free\n",
       "3     Error Free  Error Free  Error Free  Error Free\n",
       "4     Error Free  Error Free   Defective  Error Free\n",
       "..           ...         ...         ...         ...\n",
       "295   Error Free  Error Free  Error Free  Error Free\n",
       "296   Error Free  Error Free  Error Free  Error Free\n",
       "297   Error Free  Error Free   Defective  Error Free\n",
       "298   Error Free  Error Free  Error Free  Error Free\n",
       "299   Error Free   Defective   Defective  Error Free\n",
       "\n",
       "[300 rows x 4 columns]"
      ]
     },
     "execution_count": 4,
     "metadata": {},
     "output_type": "execute_result"
    }
   ],
   "source": [
    "df1={\"country\":[\"Phillippines\",\"Indonesia\",\"Malta\",\"India\"],\"Defective\":}"
   ]
  },
  {
   "cell_type": "code",
   "execution_count": 60,
   "id": "3fd23d73",
   "metadata": {},
   "outputs": [
    {
     "data": {
      "text/plain": [
       "False    271\n",
       "True      29\n",
       "Name: Phillippines, dtype: int64"
      ]
     },
     "execution_count": 60,
     "metadata": {},
     "output_type": "execute_result"
    }
   ],
   "source": [
    "s=(d[\"Phillippines\"]==\"Defective\").value_counts()\n",
    "s"
   ]
  },
  {
   "cell_type": "code",
   "execution_count": null,
   "id": "3420cad2",
   "metadata": {},
   "outputs": [],
   "source": []
  },
  {
   "cell_type": "code",
   "execution_count": null,
   "id": "aee81778",
   "metadata": {},
   "outputs": [],
   "source": []
  },
  {
   "cell_type": "markdown",
   "id": "366c19e8",
   "metadata": {},
   "source": [
    "# 12 question"
   ]
  },
  {
   "cell_type": "code",
   "execution_count": 7,
   "id": "8a6d1176",
   "metadata": {},
   "outputs": [
    {
     "data": {
      "text/plain": [
       "{34, 36, 38, 39, 40, 41, 42, 45, 49, 56}"
      ]
     },
     "execution_count": 7,
     "metadata": {},
     "output_type": "execute_result"
    }
   ],
   "source": [
    "import pandas as pd\n",
    "x={34,36,36,38,38,39,39,40,40,41,41,41,41,42,42,45,49,56}\n",
    "x"
   ]
  },
  {
   "cell_type": "code",
   "execution_count": 19,
   "id": "7306f495",
   "metadata": {},
   "outputs": [
    {
     "name": "stdout",
     "output_type": "stream",
     "text": [
      "Mean 0    42.0\n",
      "dtype: float64 Median 0    40.5\n",
      "dtype: float64 Variance 0    42.666667\n",
      "dtype: float64 standard deviation 0    6.531973\n",
      "dtype: float64\n"
     ]
    }
   ],
   "source": [
    "df=pd.DataFrame(x)\n",
    "print(\"Mean\",df.mean(),\"Median\",df.median(),\"Variance\",df.var(),\"standard deviation\",df.std())"
   ]
  },
  {
   "cell_type": "code",
   "execution_count": null,
   "id": "89fb5235",
   "metadata": {},
   "outputs": [],
   "source": []
  },
  {
   "cell_type": "markdown",
   "id": "dbfcdaf6",
   "metadata": {},
   "source": [
    "# Question 20"
   ]
  },
  {
   "cell_type": "code",
   "execution_count": 53,
   "id": "185fd7d6",
   "metadata": {},
   "outputs": [
    {
     "name": "stdout",
     "output_type": "stream",
     "text": [
      "Probability of getting Mpg>38  : 34.8 Percent\n",
      "Probability of getting Mpg<40  : 72.89999999999999 Percent\n",
      "Probability of getting 20<Mpg>50  : 89.9 Percent\n"
     ]
    }
   ],
   "source": [
    "import pandas as pd\n",
    "import numpy as np\n",
    "from scipy.stats import norm\n",
    "df=pd.read_csv(\"D:/data science/Assignments/Cars.csv\")\n",
    "f=df[\"MPG\"]\n",
    "m=f.mean()\n",
    "s=f.std()\n",
    "nd=norm(m,s)\n",
    "a=(1-nd.cdf(38)).round(3)\n",
    "b=(nd.cdf(40)).round(3)\n",
    "c=(nd.cdf(50)-nd.cdf(20)).round(3)\n",
    "print(\"Probability of getting Mpg>38  :\",a*100,\"Percent\")\n",
    "print(\"Probability of getting Mpg<40  :\",b*100,\"Percent\")\n",
    "print(\"Probability of getting 20<Mpg>50  :\",c*100,\"Percent\")"
   ]
  },
  {
   "cell_type": "code",
   "execution_count": 59,
   "id": "d86c5701",
   "metadata": {},
   "outputs": [
    {
     "data": {
      "text/plain": [
       "<AxesSubplot:>"
      ]
     },
     "execution_count": 59,
     "metadata": {},
     "output_type": "execute_result"
    },
    {
     "data": {
      "image/png": "[encoded data removed]",
      "text/plain": [
       "<Figure size 640x480 with 1 Axes>"
      ]
     },
     "metadata": {},
     "output_type": "display_data"
    }
   ],
   "source": [
    "df.boxplot()"
   ]
  },
  {
   "cell_type": "code",
   "execution_count": 60,
   "id": "af8f968e",
   "metadata": {},
   "outputs": [
    {
     "data": {
      "text/plain": [
       "<AxesSubplot:>"
      ]
     },
     "execution_count": 60,
     "metadata": {},
     "output_type": "execute_result"
    },
    {
     "data": {
      "image/png": "[encoded data removed]",
      "text/plain": [
       "<Figure size 640x480 with 1 Axes>"
      ]
     },
     "metadata": {},
     "output_type": "display_data"
    }
   ],
   "source": [
    "df[\"MPG\"].hist()"
   ]
  },
  {
   "cell_type": "code",
   "execution_count": 64,
   "id": "da472c13",
   "metadata": {},
   "outputs": [
    {
     "data": {
      "text/plain": [
       "<AxesSubplot:>"
      ]
     },
     "execution_count": 64,
     "metadata": {},
     "output_type": "execute_result"
    },
    {
     "data": {
      "image/png": "[encoded data removed]",
      "text/plain": [
       "<Figure size 640x480 with 1 Axes>"
      ]
     },
     "metadata": {},
     "output_type": "display_data"
    }
   ],
   "source": [
    "import pandas as pd\n",
    "df=pd.read_csv(\"D:/data science/Assignments/wc-at.csv\")\n",
    "df[\"Waist\"].hist()\n",
    "df[\"AT\"].hist()"
   ]
  },
  {
   "cell_type": "code",
   "execution_count": 65,
   "id": "a676a430",
   "metadata": {},
   "outputs": [
    {
     "data": {
      "text/plain": [
       "<AxesSubplot:>"
      ]
     },
     "execution_count": 65,
     "metadata": {},
     "output_type": "execute_result"
    },
    {
     "data": {
      "image/png": "[encoded data removed]",
      "text/plain": [
       "<Figure size 640x480 with 1 Axes>"
      ]
     },
     "metadata": {},
     "output_type": "display_data"
    }
   ],
   "source": [
    "df[\"AT\"].hist()"
   ]
  },
  {
   "cell_type": "code",
   "execution_count": 66,
   "id": "b3797813",
   "metadata": {},
   "outputs": [
    {
     "data": {
      "text/plain": [
       "<AxesSubplot:>"
      ]
     },
     "execution_count": 66,
     "metadata": {},
     "output_type": "execute_result"
    },
    {
     "data": {
      "image/png": "[encoded data removed]",
      "text/plain": [
       "<Figure size 640x480 with 1 Axes>"
      ]
     },
     "metadata": {},
     "output_type": "display_data"
    }
   ],
   "source": [
    "df.boxplot()"
   ]
  },
  {
   "cell_type": "code",
   "execution_count": 5,
   "id": "9a50d13d",
   "metadata": {},
   "outputs": [
    {
     "data": {
      "text/plain": [
       "0    3.07\n",
       "1    3.92\n",
       "Name: Points, dtype: float64"
      ]
     },
     "execution_count": 5,
     "metadata": {},
     "output_type": "execute_result"
    }
   ],
   "source": [
    "t1.mode()"
   ]
  },
  {
   "cell_type": "code",
   "execution_count": 14,
   "id": "1ea56431",
   "metadata": {},
   "outputs": [
    {
     "data": {
      "text/plain": [
       "0    2.970227\n",
       "dtype: float64"
      ]
     },
     "execution_count": 14,
     "metadata": {},
     "output_type": "execute_result"
    }
   ],
   "source": [
    "import pandas as pd\n",
    "k={1,2,3,4,5,6,7,8,100}\n",
    "e=pd.DataFrame(k)\n",
    "e.skew()"
   ]
  },
  {
   "cell_type": "code",
   "execution_count": null,
   "id": "acc0330e",
   "metadata": {},
   "outputs": [],
   "source": []
  },
  {
   "cell_type": "code",
   "execution_count": 2,
   "id": "9fd1064d",
   "metadata": {},
   "outputs": [
    {
     "name": "stdout",
     "output_type": "stream",
     "text": [
      "(143.57619175546247, 256.42380824453755)\n",
      "(138.38753268104531, 261.61246731895466)\n",
      "(147.4794178624349, 252.52058213756507)\n"
     ]
    }
   ],
   "source": [
    "from scipy import stats\n",
    "a= stats.norm.interval(0.94, loc=200, scale=30)\n",
    "print(a)\n",
    "b = stats.norm.interval(0.96, loc = 200, scale=30)\n",
    "print(b)\n",
    "c = stats.norm.interval(0.92, loc = 200, scale =30)\n",
    "print(c)"
   ]
  },
  {
   "cell_type": "code",
   "execution_count": 9,
   "id": "9e7d29b0",
   "metadata": {},
   "outputs": [
    {
     "name": "stdout",
     "output_type": "stream",
     "text": [
      "Z scores: 1.6448536269514722\n",
      "Z scores: 1.8807936081512509\n",
      "Z scores: 0.8416212335729143\n"
     ]
    }
   ],
   "source": [
    "from scipy.stats import norm\n",
    "from scipy import stats\n",
    "print(\"Z scores:\",stats.norm.ppf(0.95))\n",
    "print(\"Z scores:\",stats.norm.ppf(0.97))\n",
    "print(\"Z scores:\",stats.norm.ppf(0.8))"
   ]
  },
  {
   "cell_type": "code",
   "execution_count": 12,
   "id": "8882f264",
   "metadata": {},
   "outputs": [
    {
     "name": "stdout",
     "output_type": "stream",
     "text": [
      "t scores 2.0638985616280205\n",
      "t scores 2.1715446760080677\n",
      "t scores 2.796939504772804\n"
     ]
    }
   ],
   "source": [
    "from scipy.stats import norm\n",
    "from scipy import stats\n",
    "print(\"t scores\",stats.t.ppf(0.975,24))\n",
    "print(\"t scores\",stats.t.ppf(0.98,24))\n",
    "print(\"t scores\",stats.t.ppf(0.995,24))"
   ]
  },
  {
   "cell_type": "code",
   "execution_count": 15,
   "id": "b0380d6f",
   "metadata": {},
   "outputs": [
    {
     "name": "stdout",
     "output_type": "stream",
     "text": [
      "t value: -0.4714045207910317\n",
      "p value: 0.32167411684460556\n"
     ]
    },
    {
     "data": {
      "text/plain": [
       "0.32167411684460556"
      ]
     },
     "execution_count": 15,
     "metadata": {},
     "output_type": "execute_result"
    }
   ],
   "source": [
    "from scipy.stats import norm\n",
    "from scipy import stats\n",
    "t=(260-270)/(90/18**0.5)\n",
    "print(\"t value:\",t)\n",
    "p=1-stats.t.cdf(abs(-0.4714),df=17)\n",
    "print(\"p value:\",p)\n",
    "p_value=stats.t.sf(abs(-0.4714),df=17)\n",
    "p_value"
   ]
  },
  {
   "cell_type": "code",
   "execution_count": 5,
   "id": "92c2adb1",
   "metadata": {},
   "outputs": [
    {
     "data": {
      "text/plain": [
       "{'mm': [1, 'hchjg']}"
      ]
     },
     "execution_count": 5,
     "metadata": {},
     "output_type": "execute_result"
    }
   ],
   "source": [
    "t=[]\n",
    "t={\"mm\":[1,\"hchjg\"]}\n",
    "t"
   ]
  },
  {
   "cell_type": "code",
   "execution_count": null,
   "id": "02dfb70f",
   "metadata": {},
   "outputs": [],
   "source": []
  }
 ],
 "metadata": {
  "kernelspec": {
   "display_name": "Python 3 (ipykernel)",
   "language": "python",
   "name": "python3"
  },
  "language_info": {
   "codemirror_mode": {
    "name": "ipython",
    "version": 3
   },
   "file_extension": ".py",
   "mimetype": "text/x-python",
   "name": "python",
   "nbconvert_exporter": "python",
   "pygments_lexer": "ipython3",
   "version": "3.9.13"
  }
 },
 "nbformat": 4,
 "nbformat_minor": 5
}
